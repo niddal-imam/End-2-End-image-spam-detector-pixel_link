{
 "cells": [
  {
   "cell_type": "code",
   "execution_count": 17,
   "metadata": {},
   "outputs": [
    {
     "name": "stdout",
     "output_type": "stream",
     "text": [
      "Calculated!{\"crwup\": 0.4, \"tedupL\": 23.00515873015872, \"tedL\": 23.00515873015872, \"totalWords\": 106, \"crwN\": 42.0, \"crwupN\": 42.0, \"ted\": 146.0, \"tedup\": 146.0, \"detWords\": 105, \"crw\": 0.4}"
     ]
    }
   ],
   "source": [
    "#old osn dataset\n",
    "!python ED.py -g=/home/niddal/Desktop/PhD_projects/crnn_test/gt/gt.txt \\\n",
    "-s=/home/niddal/Desktop/PhD_projects/crnn_test/gt/submit.txt \\\n",
    "-o=/home/niddal/Desktop/PhD_projects/crnn_test/gt/Output/"
   ]
  },
  {
   "cell_type": "code",
   "execution_count": 5,
   "metadata": {},
   "outputs": [
    {
     "name": "stdout",
     "output_type": "stream",
     "text": [
      "Calculated!{\"crwup\": 0.38016528925619836, \"tedupL\": 26.390476190476186, \"tedL\": 30.012698412698402, \"totalWords\": 121, \"crwN\": 37.0, \"crwupN\": 46.0, \"ted\": 199.0, \"tedup\": 172.0, \"detWords\": 121, \"crw\": 0.30578512396694213}"
     ]
    }
   ],
   "source": [
    "#Arabic+English test samples\n",
    "!python ED.py -g=/home/niddal/Desktop/PhD_projects/crnn_test/gt/gt.txt \\\n",
    "-s=/home/niddal/Desktop/PhD_projects/crnn_test/gt/submit.txt \\\n",
    "-o=/home/niddal/Desktop/PhD_projects/crnn_test/gt/Overall/"
   ]
  },
  {
   "cell_type": "code",
   "execution_count": 1,
   "metadata": {},
   "outputs": [
    {
     "name": "stdout",
     "output_type": "stream",
     "text": [
      "Calculated!{\"crwup\": 0.18627450980392157, \"tedupL\": 30.045238095238084, \"tedL\": 30.045238095238084, \"totalWords\": 102, \"crwN\": 19.0, \"crwupN\": 19.0, \"ted\": 196.0, \"tedup\": 196.0, \"detWords\": 102, \"crw\": 0.18627450980392157}"
     ]
    }
   ],
   "source": [
    "#Arabic test samples\n",
    "!python ED.py -g=/home/niddal/Desktop/PhD_projects/crnn_test/gt/Ar/gt.txt \\\n",
    "-s=/home/niddal/Desktop/PhD_projects/crnn_test/gt/Ar/submit.txt \\\n",
    "-o=/home/niddal/Desktop/PhD_projects/crnn_test/gt/Ar/My/"
   ]
  },
  {
   "cell_type": "code",
   "execution_count": 4,
   "metadata": {},
   "outputs": [
    {
     "name": "stdout",
     "output_type": "stream",
     "text": [
      "Calculated!{\"crwup\": 0.7551020408163265, \"tedupL\": 3.1166666666666667, \"tedL\": 6.738888888888889, \"totalWords\": 49, \"crwN\": 28.0, \"crwupN\": 37.0, \"ted\": 51.0, \"tedup\": 24.0, \"detWords\": 49, \"crw\": 0.5714285714285714}"
     ]
    }
   ],
   "source": [
    "#English test samples\n",
    "!python ED.py -g=/home/niddal/Desktop/PhD_projects/crnn_test/gt/Eng/gt.txt \\\n",
    "-s=/home/niddal/Desktop/PhD_projects/crnn_test/gt/Eng/submit.txt \\\n",
    "-o=/home/niddal/Desktop/PhD_projects/crnn_test/gt/Eng/My/"
   ]
  },
  {
   "cell_type": "code",
   "execution_count": 1,
   "metadata": {},
   "outputs": [
    {
     "name": "stdout",
     "output_type": "stream",
     "text": [
      "Calculated!{\"crwup\": 0.24489795918367346, \"tedupL\": 20.424725274725276, \"tedL\": 21.519169719169724, \"totalWords\": 49, \"crwN\": 12.0, \"crwupN\": 12.0, \"ted\": 141.0, \"tedup\": 133.0, \"detWords\": 49, \"crw\": 0.24489795918367346}"
     ]
    }
   ],
   "source": [
    "#English test samples ocr.space\n",
    "!python ED.py -g=/home/niddal/Desktop/PhD_projects/crnn_test/gt/Eng/gt.txt \\\n",
    "-s=/home/niddal/Desktop/PhD_projects/crnn_test/gt/Eng/submit.txt \\\n",
    "-o=/home/niddal/Desktop/PhD_projects/crnn_test/gt/Eng/ocr_space/"
   ]
  },
  {
   "cell_type": "code",
   "execution_count": 2,
   "metadata": {},
   "outputs": [
    {
     "name": "stdout",
     "output_type": "stream",
     "text": [
      "Calculated!{\"crwup\": 0.20588235294117646, \"tedupL\": 46.301984126984145, \"tedL\": 46.301984126984145, \"totalWords\": 102, \"crwN\": 21.0, \"crwupN\": 21.0, \"ted\": 297.0, \"tedup\": 297.0, \"detWords\": 102, \"crw\": 0.20588235294117646}"
     ]
    }
   ],
   "source": [
    "#Arabic test samples ocr.space\n",
    "!python ED.py -g=/home/niddal/Desktop/PhD_projects/crnn_test/gt/Ar/gt.txt \\\n",
    "-s=/home/niddal/Desktop/PhD_projects/crnn_test/gt/Ar/Ar_ocr_py/submit.txt \\\n",
    "-o=/home/niddal/Desktop/PhD_projects/crnn_test/gt/Ar/Ar_ocr_py/"
   ]
  },
  {
   "cell_type": "code",
   "execution_count": 3,
   "metadata": {},
   "outputs": [
    {
     "name": "stdout",
     "output_type": "stream",
     "text": [
      "Calculated!{\"crwup\": 0.3333333333333333, \"tedupL\": 38.40198412698413, \"tedL\": 38.40198412698413, \"totalWords\": 102, \"crwN\": 34.0, \"crwupN\": 34.0, \"ted\": 238.0, \"tedup\": 238.0, \"detWords\": 102, \"crw\": 0.3333333333333333}"
     ]
    }
   ],
   "source": [
    "#Arabic test samples google\n",
    "!python ED.py -g=/home/niddal/Desktop/PhD_projects/crnn_test/gt/Ar/gt.txt \\\n",
    "-s=/home/niddal/Desktop/PhD_projects/crnn_test/gt/Ar/google/submit.txt \\\n",
    "-o=/home/niddal/Desktop/PhD_projects/crnn_test/gt/Ar/google/"
   ]
  },
  {
   "cell_type": "code",
   "execution_count": 4,
   "metadata": {},
   "outputs": [
    {
     "name": "stdout",
     "output_type": "stream",
     "text": [
      "Calculated!{\"crwup\": 0.5306122448979592, \"tedupL\": 11.707936507936505, \"tedL\": 11.85079365079365, \"totalWords\": 49, \"crwN\": 25.0, \"crwupN\": 26.0, \"ted\": 61.0, \"tedup\": 60.0, \"detWords\": 49, \"crw\": 0.5102040816326531}"
     ]
    }
   ],
   "source": [
    "#English test samples google\n",
    "!python ED.py -g=/home/niddal/Desktop/PhD_projects/crnn_test/gt/Eng/gt.txt \\\n",
    "-s=/home/niddal/Desktop/PhD_projects/crnn_test/gt/Eng/google/submit.txt \\\n",
    "-o=/home/niddal/Desktop/PhD_projects/crnn_test/gt/Eng/google/"
   ]
  }
 ],
 "metadata": {
  "kernelspec": {
   "display_name": "Python 3",
   "language": "python",
   "name": "python3"
  },
  "language_info": {
   "codemirror_mode": {
    "name": "ipython",
    "version": 3
   },
   "file_extension": ".py",
   "mimetype": "text/x-python",
   "name": "python",
   "nbconvert_exporter": "python",
   "pygments_lexer": "ipython3",
   "version": "3.7.3"
  }
 },
 "nbformat": 4,
 "nbformat_minor": 2
}
