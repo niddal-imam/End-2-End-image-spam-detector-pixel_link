{
 "cells": [
  {
   "cell_type": "code",
   "execution_count": null,
   "metadata": {},
   "outputs": [],
   "source": [
    "# libraqm dependencies\n",
    "!apt-get install libfreetype6-dev libharfbuzz-dev libfribidi-dev libraqm-dev\n",
    "# Pillow 4.3.0 requires imgaug==0.2.6\n",
    "!pip -q install imgaug==0.2.6\n",
    "# doesn't support libraqm by default\n",
    "!pip -q uninstall Pillow --yes\n",
    "# rebuilding with libraqm support\n",
    "!wget https://files.pythonhosted.org/packages/e0/82/ec499c78bfe4ecaa91c2f3000040451d187ed0a816d58b8543e29c48827f/Pillow-4.3.0.tar.gz\n",
    "!tar -xf Pillow-4.3.0.tar.gz\n",
    "!cd Pillow-4.3.0 && python setup.py install\n",
    "# for downloading the app from gdrive\n",
    "!pip -q install gdown\n",
    "!gdown https://drive.google.com/uc?id=19KNxVxKS2DjaNhQkvFg-J6ZiIiZ5QhLo\n",
    "!tar -xf trdg.tar.gz"
   ]
  },
  {
   "cell_type": "code",
   "execution_count": null,
   "metadata": {},
   "outputs": [],
   "source": [
    "from google.colab import files\n",
    "\n",
    "\n",
    "# running the program\n",
    "!cd trdg && python run.py -c 20 -rs -let -num --output_dir=out\n",
    "# download the images\n",
    "!tar -zcf images.tar.gz trdg/out\n",
    "\n",
    "\n",
    "files.download( 'images.tar.gz' )\n",
    "\n",
    "!rm -rf trdg/out"
   ]
  }
 ],
 "metadata": {
  "kernelspec": {
   "display_name": "Python 3",
   "language": "python",
   "name": "python3"
  },
  "language_info": {
   "codemirror_mode": {
    "name": "ipython",
    "version": 3
   },
   "file_extension": ".py",
   "mimetype": "text/x-python",
   "name": "python",
   "nbconvert_exporter": "python",
   "pygments_lexer": "ipython3",
   "version": "3.6.10"
  }
 },
 "nbformat": 4,
 "nbformat_minor": 2
}
