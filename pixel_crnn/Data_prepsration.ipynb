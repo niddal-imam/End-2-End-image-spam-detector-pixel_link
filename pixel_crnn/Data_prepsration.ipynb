#Preparing the dataset for training the crnn model

{
 "cells": [
  {
   "cell_type": "code",
   "execution_count": null,
   "metadata": {},
   "outputs": [],
   "source": [
    "import sys\n",
    "file_path = \"/home/niddal/Desktop/PhD_projects/Arabic-text-recognition-master/data/mnt/ramdisk/max/90kDICT32px/annotation_val.txt\"\n",
    "output_path = \"/home/niddal/Desktop/PhD_projects/Arabic-text-recognition-master/data/mnt/ramdisk/max/90kDICT32px/Annotation_val.txt\"\n",
    "with open(file_path) as f:\n",
    "    line = f.readline()\n",
    "    count= 1\n",
    "    while line:\n",
    "        sys.stdout = open(output_path,'a')\n",
    "        print(line,line.split('_')[1])\n",
    "        line = f.readline()\n",
    "        count += 1\n",
    "        sys.stdout.close()"
   ]
  },
  {
   "cell_type": "code",
   "execution_count": null,
   "metadata": {},
   "outputs": [],
   "source": [
    "#Arabic_datasets\n",
    "import sys\n",
    "file_path = \"/home/niddal/Desktop/PhD_projects/Arabic-text-recognition-master/data/Archive/Annotation_tr2.txt\"\n",
    "output_path = \"/home/niddal/Desktop/PhD_projects/Arabic-text-recognition-master/data/Archive/Annotation_3.txt\"\n",
    "with open(file_path) as f:\n",
    "    line = f.readline()\n",
    "    count= 1\n",
    "    while line:\n",
    "        sys.stdout = open(output_path,'a')\n",
    "        print(line,line.split(\"/\")[9].split(\"_\")[0])\n",
    "        line = f.readline()\n",
    "        count += 1\n",
    "        sys.stdout.close()\n",
    "f.close()"
   ]
  },
  {
   "cell_type": "code",
   "execution_count": null,
   "metadata": {},
   "outputs": [],
   "source": [
    "::[^/\\n]*$"
   ]
  }
 ],
 "metadata": {
  "kernelspec": {
   "display_name": "Python 3",
   "language": "python",
   "name": "python3"
  },
  "language_info": {
   "codemirror_mode": {
    "name": "ipython",
    "version": 3
   },
   "file_extension": ".py",
   "mimetype": "text/x-python",
   "name": "python",
   "nbconvert_exporter": "python",
   "pygments_lexer": "ipython3",
   "version": "3.6.8"
  }
 },
 "nbformat": 4,
 "nbformat_minor": 2
}
